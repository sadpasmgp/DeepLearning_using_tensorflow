{
 "cells": [
  {
   "cell_type": "markdown",
   "metadata": {},
   "source": [
    "## Perceptron"
   ]
  },
  {
   "cell_type": "markdown",
   "metadata": {},
   "source": [
    "#### AND Gate"
   ]
  },
  {
   "cell_type": "code",
   "execution_count": 15,
   "metadata": {},
   "outputs": [],
   "source": [
    "import numpy as np"
   ]
  },
  {
   "cell_type": "code",
   "execution_count": 16,
   "metadata": {},
   "outputs": [],
   "source": [
    "#fetures of typical AND gate\n",
    "\n",
    "features = np.array([\n",
    "    [0,0],\n",
    "    [0,1],\n",
    "    [1,0],\n",
    "    [1,1]\n",
    "])\n"
   ]
  },
  {
   "cell_type": "code",
   "execution_count": 17,
   "metadata": {},
   "outputs": [],
   "source": [
    "#labels are results of AND gate\n",
    "labels = np.array([0,0,0,1])"
   ]
  },
  {
   "cell_type": "code",
   "execution_count": 18,
   "metadata": {},
   "outputs": [],
   "source": [
    "#initial weights can be anything\n",
    "w = [0.9, 0.9]"
   ]
  },
  {
   "cell_type": "code",
   "execution_count": 19,
   "metadata": {},
   "outputs": [],
   "source": [
    "threshold = 0.5"
   ]
  },
  {
   "cell_type": "code",
   "execution_count": 20,
   "metadata": {},
   "outputs": [
    {
     "data": {
      "text/html": [
       "<img src=\"perceptron.png\" width=\"800\" height=\"800\"/>"
      ],
      "text/plain": [
       "<IPython.core.display.Image object>"
      ]
     },
     "execution_count": 20,
     "metadata": {},
     "output_type": "execute_result"
    }
   ],
   "source": [
    "from IPython.display import Image\n",
    "Image(url= \"perceptron.png\", width=800, height=800)"
   ]
  },
  {
   "cell_type": "code",
   "execution_count": 21,
   "metadata": {},
   "outputs": [
    {
     "name": "stdout",
     "output_type": "stream",
     "text": [
      "prediction:  0 whereas actual was  0\n",
      "prediction:  1 whereas actual was  0\n",
      "prediction:  1 whereas actual was  0\n",
      "prediction:  1 whereas actual was  1\n"
     ]
    }
   ],
   "source": [
    "for i in range(0, features.shape[0]):\n",
    "    instance = features[i]\n",
    "    \n",
    "    x0 = instance[0]\n",
    "    x1 = instance[1]\n",
    "    \n",
    "    sum_unit = x0 * w[0] + x1 * w[1]\n",
    "    \n",
    "    if sum_unit > threshold:\n",
    "        fire = 1\n",
    "    else:\n",
    "        fire = 0\n",
    "        \n",
    "    print(\"prediction: \", fire, \"whereas actual was \",labels[i])"
   ]
  },
  {
   "cell_type": "markdown",
   "metadata": {},
   "source": [
    "Here 2 instances predicted corrected and 2 incorrectly.\n",
    "Hence we introduce learning into the calculations"
   ]
  },
  {
   "cell_type": "code",
   "execution_count": 22,
   "metadata": {},
   "outputs": [
    {
     "name": "stdout",
     "output_type": "stream",
     "text": [
      "prediction:  0 whereas actual was  0 (error: 0 )\n",
      "prediction:  1 whereas actual was  0 (error: -1 )\n",
      "prediction:  1 whereas actual was  0 (error: -1 )\n",
      "prediction:  1 whereas actual was  1 (error: 0 )\n"
     ]
    }
   ],
   "source": [
    "for i in range(0, features.shape[0]):\n",
    "    \n",
    "    actual = labels[i]\n",
    "    instance = features[i]\n",
    "    \n",
    "    x0 = instance[0]\n",
    "    x1 = instance[1]\n",
    "    \n",
    "    sum_unit = x0 * w[0] + x1 * w[1]\n",
    "    \n",
    "    if sum_unit > threshold:\n",
    "        fire = 1\n",
    "    else:\n",
    "        fire = 0\n",
    "    \n",
    "    delta = actual - fire\n",
    "    \n",
    "    print(\"prediction: \", fire, \"whereas actual was \",actual, \"(error:\" , delta,\")\")"
   ]
  },
  {
   "cell_type": "markdown",
   "metadata": {},
   "source": [
    "Here we have calculated the errors and we noticed that the errors are 0 in 2 instances and prediction was correct. \n",
    "But in other 2 cases error = -1 and that is what needs to be corrected.\n",
    "\n",
    "THis is done by introducting learning rate  multiplied to error value and added back to the actual weights"
   ]
  },
  {
   "cell_type": "code",
   "execution_count": 23,
   "metadata": {},
   "outputs": [],
   "source": [
    "\n",
    "learning_rate = 0.1\n",
    "epoch = 20 #learning time"
   ]
  },
  {
   "cell_type": "code",
   "execution_count": 24,
   "metadata": {
    "scrolled": false
   },
   "outputs": [
    {
     "name": "stdout",
     "output_type": "stream",
     "text": [
      "epoch:  0\n",
      "prediction:  0 whereas actual was  0 (error: 0 )\n",
      "prediction:  1 whereas actual was  0 (error: -1 )\n",
      "prediction:  1 whereas actual was  0 (error: -1 )\n",
      "prediction:  1 whereas actual was  1 (error: 0 )\n",
      "------------------------------\n",
      "epoch:  1\n",
      "prediction:  0 whereas actual was  0 (error: 0 )\n",
      "prediction:  1 whereas actual was  0 (error: -1 )\n",
      "prediction:  1 whereas actual was  0 (error: -1 )\n",
      "prediction:  1 whereas actual was  1 (error: 0 )\n",
      "------------------------------\n",
      "epoch:  2\n",
      "prediction:  0 whereas actual was  0 (error: 0 )\n",
      "prediction:  1 whereas actual was  0 (error: -1 )\n",
      "prediction:  0 whereas actual was  0 (error: 0 )\n",
      "prediction:  1 whereas actual was  1 (error: 0 )\n",
      "------------------------------\n",
      "epoch:  3\n",
      "prediction:  0 whereas actual was  0 (error: 0 )\n",
      "prediction:  0 whereas actual was  0 (error: 0 )\n",
      "prediction:  0 whereas actual was  0 (error: 0 )\n",
      "prediction:  1 whereas actual was  1 (error: 0 )\n",
      "------------------------------\n",
      "epoch:  4\n",
      "prediction:  0 whereas actual was  0 (error: 0 )\n",
      "prediction:  0 whereas actual was  0 (error: 0 )\n",
      "prediction:  0 whereas actual was  0 (error: 0 )\n",
      "prediction:  1 whereas actual was  1 (error: 0 )\n",
      "------------------------------\n",
      "epoch:  5\n",
      "prediction:  0 whereas actual was  0 (error: 0 )\n",
      "prediction:  0 whereas actual was  0 (error: 0 )\n",
      "prediction:  0 whereas actual was  0 (error: 0 )\n",
      "prediction:  1 whereas actual was  1 (error: 0 )\n",
      "------------------------------\n",
      "epoch:  6\n",
      "prediction:  0 whereas actual was  0 (error: 0 )\n",
      "prediction:  0 whereas actual was  0 (error: 0 )\n",
      "prediction:  0 whereas actual was  0 (error: 0 )\n",
      "prediction:  1 whereas actual was  1 (error: 0 )\n",
      "------------------------------\n",
      "epoch:  7\n",
      "prediction:  0 whereas actual was  0 (error: 0 )\n",
      "prediction:  0 whereas actual was  0 (error: 0 )\n",
      "prediction:  0 whereas actual was  0 (error: 0 )\n",
      "prediction:  1 whereas actual was  1 (error: 0 )\n",
      "------------------------------\n",
      "epoch:  8\n",
      "prediction:  0 whereas actual was  0 (error: 0 )\n",
      "prediction:  0 whereas actual was  0 (error: 0 )\n",
      "prediction:  0 whereas actual was  0 (error: 0 )\n",
      "prediction:  1 whereas actual was  1 (error: 0 )\n",
      "------------------------------\n",
      "epoch:  9\n",
      "prediction:  0 whereas actual was  0 (error: 0 )\n",
      "prediction:  0 whereas actual was  0 (error: 0 )\n",
      "prediction:  0 whereas actual was  0 (error: 0 )\n",
      "prediction:  1 whereas actual was  1 (error: 0 )\n",
      "------------------------------\n",
      "epoch:  10\n",
      "prediction:  0 whereas actual was  0 (error: 0 )\n",
      "prediction:  0 whereas actual was  0 (error: 0 )\n",
      "prediction:  0 whereas actual was  0 (error: 0 )\n",
      "prediction:  1 whereas actual was  1 (error: 0 )\n",
      "------------------------------\n",
      "epoch:  11\n",
      "prediction:  0 whereas actual was  0 (error: 0 )\n",
      "prediction:  0 whereas actual was  0 (error: 0 )\n",
      "prediction:  0 whereas actual was  0 (error: 0 )\n",
      "prediction:  1 whereas actual was  1 (error: 0 )\n",
      "------------------------------\n",
      "epoch:  12\n",
      "prediction:  0 whereas actual was  0 (error: 0 )\n",
      "prediction:  0 whereas actual was  0 (error: 0 )\n",
      "prediction:  0 whereas actual was  0 (error: 0 )\n",
      "prediction:  1 whereas actual was  1 (error: 0 )\n",
      "------------------------------\n",
      "epoch:  13\n",
      "prediction:  0 whereas actual was  0 (error: 0 )\n",
      "prediction:  0 whereas actual was  0 (error: 0 )\n",
      "prediction:  0 whereas actual was  0 (error: 0 )\n",
      "prediction:  1 whereas actual was  1 (error: 0 )\n",
      "------------------------------\n",
      "epoch:  14\n",
      "prediction:  0 whereas actual was  0 (error: 0 )\n",
      "prediction:  0 whereas actual was  0 (error: 0 )\n",
      "prediction:  0 whereas actual was  0 (error: 0 )\n",
      "prediction:  1 whereas actual was  1 (error: 0 )\n",
      "------------------------------\n",
      "epoch:  15\n",
      "prediction:  0 whereas actual was  0 (error: 0 )\n",
      "prediction:  0 whereas actual was  0 (error: 0 )\n",
      "prediction:  0 whereas actual was  0 (error: 0 )\n",
      "prediction:  1 whereas actual was  1 (error: 0 )\n",
      "------------------------------\n",
      "epoch:  16\n",
      "prediction:  0 whereas actual was  0 (error: 0 )\n",
      "prediction:  0 whereas actual was  0 (error: 0 )\n",
      "prediction:  0 whereas actual was  0 (error: 0 )\n",
      "prediction:  1 whereas actual was  1 (error: 0 )\n",
      "------------------------------\n",
      "epoch:  17\n",
      "prediction:  0 whereas actual was  0 (error: 0 )\n",
      "prediction:  0 whereas actual was  0 (error: 0 )\n",
      "prediction:  0 whereas actual was  0 (error: 0 )\n",
      "prediction:  1 whereas actual was  1 (error: 0 )\n",
      "------------------------------\n",
      "epoch:  18\n",
      "prediction:  0 whereas actual was  0 (error: 0 )\n",
      "prediction:  0 whereas actual was  0 (error: 0 )\n",
      "prediction:  0 whereas actual was  0 (error: 0 )\n",
      "prediction:  1 whereas actual was  1 (error: 0 )\n",
      "------------------------------\n",
      "epoch:  19\n",
      "prediction:  0 whereas actual was  0 (error: 0 )\n",
      "prediction:  0 whereas actual was  0 (error: 0 )\n",
      "prediction:  0 whereas actual was  0 (error: 0 )\n",
      "prediction:  1 whereas actual was  1 (error: 0 )\n",
      "------------------------------\n"
     ]
    }
   ],
   "source": [
    "for j in range(0, epoch):\n",
    "    print(\"epoch: \",j)\n",
    "    for i in range(0, features.shape[0]):\n",
    "\n",
    "        actual = labels[i]\n",
    "        instance = features[i]\n",
    "\n",
    "        x0 = instance[0]\n",
    "        x1 = instance[1]\n",
    "\n",
    "        sum_unit = x0 * w[0] + x1 * w[1]\n",
    "\n",
    "        if sum_unit > threshold:\n",
    "            fire = 1\n",
    "        else:\n",
    "            fire = 0\n",
    "\n",
    "        delta = actual - fire\n",
    "\n",
    "        print(\"prediction: \", fire, \"whereas actual was \",actual, \"(error:\" , delta,\")\")\n",
    "\n",
    "        w[0] = w[0] + delta * learning_rate\n",
    "        w[1] = w[1] + delta * learning_rate\n",
    "        \n",
    "        \n",
    "    print(\"------------------------------\")"
   ]
  },
  {
   "cell_type": "markdown",
   "metadata": {},
   "source": [
    "From results, at epoch 3 all prediction were correct, hence we shold terminate the learning at epoch 3"
   ]
  },
  {
   "cell_type": "code",
   "execution_count": 25,
   "metadata": {},
   "outputs": [
    {
     "name": "stdout",
     "output_type": "stream",
     "text": [
      "epoch:  0\n",
      "prediction:  0 whereas actual was  0 (error: 0 )\n",
      "prediction:  0 whereas actual was  0 (error: 0 )\n",
      "prediction:  0 whereas actual was  0 (error: 0 )\n",
      "prediction:  1 whereas actual was  1 (error: 0 )\n",
      "------------------------------\n"
     ]
    }
   ],
   "source": [
    "for j in range(0, epoch):\n",
    "    print(\"epoch: \",j)\n",
    "    global_delta = 0\n",
    "    for i in range(0, features.shape[0]):\n",
    "\n",
    "        actual = labels[i]\n",
    "        instance = features[i]\n",
    "\n",
    "        x0 = instance[0]\n",
    "        x1 = instance[1]\n",
    "\n",
    "        sum_unit = x0 * w[0] + x1 * w[1]\n",
    "\n",
    "        if sum_unit > threshold:\n",
    "            fire = 1\n",
    "        else:\n",
    "            fire = 0\n",
    "\n",
    "        delta = actual - fire\n",
    "        global_delta = global_delta + abs(delta)\n",
    "\n",
    "        print(\"prediction: \", fire, \"whereas actual was \",actual, \"(error:\" , delta,\")\")\n",
    "\n",
    "        w[0] = w[0] + delta * learning_rate\n",
    "        w[1] = w[1] + delta * learning_rate\n",
    "        \n",
    "        \n",
    "    print(\"------------------------------\")\n",
    "    \n",
    "    if global_delta == 0:\n",
    "        break"
   ]
  },
  {
   "cell_type": "markdown",
   "metadata": {},
   "source": [
    "Here our predictions are correct in the first attempt hence terminating learning"
   ]
  },
  {
   "cell_type": "code",
   "execution_count": 26,
   "metadata": {},
   "outputs": [
    {
     "data": {
      "text/plain": [
       "[0.40000000000000013, 0.40000000000000013]"
      ]
     },
     "execution_count": 26,
     "metadata": {},
     "output_type": "execute_result"
    }
   ],
   "source": [
    "#lets see final weights\n",
    "\n",
    "w"
   ]
  },
  {
   "cell_type": "markdown",
   "metadata": {},
   "source": [
    "### OR gate"
   ]
  },
  {
   "cell_type": "code",
   "execution_count": 27,
   "metadata": {},
   "outputs": [],
   "source": [
    "features = np.array([\n",
    "    [0,0],\n",
    "    [0,1],\n",
    "    [1,0],\n",
    "    [1,1]\n",
    "])\n",
    "\n",
    "#labels are results of OR gate\n",
    "labels = np.array([0,1,1,1])\n",
    "\n",
    "#initial weights can be anything\n",
    "w = [0.9, 0.9]\n",
    "\n",
    "threshold = 0.5\n",
    "\n",
    "learning_rate = 0.1\n",
    "epoch = 20 #learning time"
   ]
  },
  {
   "cell_type": "code",
   "execution_count": 28,
   "metadata": {},
   "outputs": [
    {
     "name": "stdout",
     "output_type": "stream",
     "text": [
      "epoch:  0\n",
      "prediction:  0 whereas actual was  0 (error: 0 )\n",
      "prediction:  1 whereas actual was  1 (error: 0 )\n",
      "prediction:  1 whereas actual was  1 (error: 0 )\n",
      "prediction:  1 whereas actual was  1 (error: 0 )\n",
      "------------------------------\n"
     ]
    }
   ],
   "source": [
    "for j in range(0, epoch):\n",
    "    print(\"epoch: \",j)\n",
    "    global_delta = 0\n",
    "    for i in range(0, features.shape[0]):\n",
    "\n",
    "        actual = labels[i]\n",
    "        instance = features[i]\n",
    "\n",
    "        x0 = instance[0]\n",
    "        x1 = instance[1]\n",
    "\n",
    "        sum_unit = x0 * w[0] + x1 * w[1]\n",
    "\n",
    "        if sum_unit > threshold:\n",
    "            fire = 1\n",
    "        else:\n",
    "            fire = 0\n",
    "\n",
    "        delta = actual - fire\n",
    "        global_delta = global_delta + abs(delta)\n",
    "\n",
    "        print(\"prediction: \", fire, \"whereas actual was \",actual, \"(error:\" , delta,\")\")\n",
    "\n",
    "        w[0] = w[0] + delta * learning_rate\n",
    "        w[1] = w[1] + delta * learning_rate\n",
    "        \n",
    "        \n",
    "    print(\"------------------------------\")\n",
    "    \n",
    "    if global_delta == 0:\n",
    "        break"
   ]
  },
  {
   "cell_type": "markdown",
   "metadata": {},
   "source": [
    "Here OR gate values are also predicted in first go"
   ]
  },
  {
   "cell_type": "code",
   "execution_count": 29,
   "metadata": {},
   "outputs": [
    {
     "data": {
      "text/plain": [
       "[0.9, 0.9]"
      ]
     },
     "execution_count": 29,
     "metadata": {},
     "output_type": "execute_result"
    }
   ],
   "source": [
    "#final weights\n",
    "w"
   ]
  },
  {
   "cell_type": "code",
   "execution_count": 30,
   "metadata": {},
   "outputs": [
    {
     "name": "stdout",
     "output_type": "stream",
     "text": [
      "epoch:  0\n",
      "prediction:  0 whereas actual was  0 (error: 0 )\n",
      "prediction:  0 whereas actual was  1 (error: 1 )\n",
      "prediction:  0 whereas actual was  1 (error: 1 )\n",
      "prediction:  1 whereas actual was  1 (error: 0 )\n",
      "------------------------------\n",
      "epoch:  1\n",
      "prediction:  0 whereas actual was  0 (error: 0 )\n",
      "prediction:  0 whereas actual was  1 (error: 1 )\n",
      "prediction:  0 whereas actual was  1 (error: 1 )\n",
      "prediction:  1 whereas actual was  1 (error: 0 )\n",
      "------------------------------\n",
      "epoch:  2\n",
      "prediction:  0 whereas actual was  0 (error: 0 )\n",
      "prediction:  1 whereas actual was  1 (error: 0 )\n",
      "prediction:  0 whereas actual was  1 (error: 1 )\n",
      "prediction:  1 whereas actual was  1 (error: 0 )\n",
      "------------------------------\n",
      "epoch:  3\n",
      "prediction:  0 whereas actual was  0 (error: 0 )\n",
      "prediction:  1 whereas actual was  1 (error: 0 )\n",
      "prediction:  1 whereas actual was  1 (error: 0 )\n",
      "prediction:  1 whereas actual was  1 (error: 0 )\n",
      "------------------------------\n"
     ]
    }
   ],
   "source": [
    "#We can test using different weights for OR gate\n",
    "\n",
    "w = [0.1, 0.2]\n",
    "\n",
    "for j in range(0, epoch):\n",
    "    print(\"epoch: \",j)\n",
    "    global_delta = 0\n",
    "    for i in range(0, features.shape[0]):\n",
    "\n",
    "        actual = labels[i]\n",
    "        instance = features[i]\n",
    "\n",
    "        x0 = instance[0]\n",
    "        x1 = instance[1]\n",
    "\n",
    "        sum_unit = x0 * w[0] + x1 * w[1]\n",
    "\n",
    "        if sum_unit > threshold:\n",
    "            fire = 1\n",
    "        else:\n",
    "            fire = 0\n",
    "\n",
    "        delta = actual - fire\n",
    "        global_delta = global_delta + abs(delta)\n",
    "\n",
    "        print(\"prediction: \", fire, \"whereas actual was \",actual, \"(error:\" , delta,\")\")\n",
    "\n",
    "        w[0] = w[0] + delta * learning_rate\n",
    "        w[1] = w[1] + delta * learning_rate\n",
    "        \n",
    "        \n",
    "    print(\"------------------------------\")\n",
    "    \n",
    "    if global_delta == 0:\n",
    "        break"
   ]
  },
  {
   "cell_type": "markdown",
   "metadata": {},
   "source": [
    "We see that in 4th epoch, perceptron is able to predict correctly"
   ]
  },
  {
   "cell_type": "code",
   "execution_count": null,
   "metadata": {},
   "outputs": [],
   "source": []
  }
 ],
 "metadata": {
  "kernelspec": {
   "display_name": "Python 3",
   "language": "python",
   "name": "python3"
  },
  "language_info": {
   "codemirror_mode": {
    "name": "ipython",
    "version": 3
   },
   "file_extension": ".py",
   "mimetype": "text/x-python",
   "name": "python",
   "nbconvert_exporter": "python",
   "pygments_lexer": "ipython3",
   "version": "3.8.5"
  }
 },
 "nbformat": 4,
 "nbformat_minor": 4
}
