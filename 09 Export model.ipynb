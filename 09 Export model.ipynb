{
 "cells": [
  {
   "cell_type": "code",
   "execution_count": 1,
   "metadata": {},
   "outputs": [],
   "source": [
    "import pandas as pd\n",
    "import keras\n",
    "from keras.models import Sequential\n",
    "from keras.layers import *\n",
    "import tensorflow as tf\n"
   ]
  },
  {
   "cell_type": "code",
   "execution_count": 2,
   "metadata": {},
   "outputs": [],
   "source": [
    "\n",
    "training_data_df = pd.read_csv(\"sales_data_training_scaled.csv\")\n",
    "\n",
    "X = training_data_df.drop('total_earnings', axis=1).values\n",
    "Y = training_data_df[['total_earnings']].values\n"
   ]
  },
  {
   "cell_type": "code",
   "execution_count": 3,
   "metadata": {},
   "outputs": [],
   "source": [
    "\n",
    "# Define the model\n",
    "model = Sequential()\n",
    "model.add(Dense(50, input_dim=9, activation='relu', name='layer_1'))\n",
    "model.add(Dense(100, activation='relu', name='layer_2'))\n",
    "model.add(Dense(50, activation='relu', name='layer_3'))\n",
    "model.add(Dense(1, activation='linear', name='output_layer'))\n",
    "model.compile(loss='mean_squared_error', optimizer='adam')\n"
   ]
  },
  {
   "cell_type": "code",
   "execution_count": 4,
   "metadata": {},
   "outputs": [],
   "source": [
    "\n",
    "# Create a TensorBoard logger\n",
    "logger = keras.callbacks.TensorBoard(\n",
    "    log_dir='logs',\n",
    "    histogram_freq=5,\n",
    "    write_graph=True\n",
    ")\n"
   ]
  },
  {
   "cell_type": "code",
   "execution_count": 5,
   "metadata": {},
   "outputs": [
    {
     "name": "stdout",
     "output_type": "stream",
     "text": [
      "Epoch 1/50\n",
      "32/32 - 0s - loss: 0.0341\n",
      "Epoch 2/50\n",
      "32/32 - 0s - loss: 0.0047\n",
      "Epoch 3/50\n",
      "32/32 - 0s - loss: 0.0018\n",
      "Epoch 4/50\n",
      "32/32 - 0s - loss: 9.2330e-04\n",
      "Epoch 5/50\n",
      "32/32 - 0s - loss: 6.1460e-04\n",
      "Epoch 6/50\n",
      "32/32 - 0s - loss: 3.7571e-04\n",
      "Epoch 7/50\n",
      "32/32 - 0s - loss: 2.1783e-04\n",
      "Epoch 8/50\n",
      "32/32 - 0s - loss: 1.6105e-04\n",
      "Epoch 9/50\n",
      "32/32 - 0s - loss: 1.1720e-04\n",
      "Epoch 10/50\n",
      "32/32 - 0s - loss: 9.5048e-05\n",
      "Epoch 11/50\n",
      "32/32 - 0s - loss: 9.5865e-05\n",
      "Epoch 12/50\n",
      "32/32 - 0s - loss: 9.0560e-05\n",
      "Epoch 13/50\n",
      "32/32 - 0s - loss: 8.0128e-05\n",
      "Epoch 14/50\n",
      "32/32 - 0s - loss: 5.9059e-05\n",
      "Epoch 15/50\n",
      "32/32 - 0s - loss: 5.1484e-05\n",
      "Epoch 16/50\n",
      "32/32 - 0s - loss: 4.4296e-05\n",
      "Epoch 17/50\n",
      "32/32 - 0s - loss: 3.8885e-05\n",
      "Epoch 18/50\n",
      "32/32 - 0s - loss: 3.5744e-05\n",
      "Epoch 19/50\n",
      "32/32 - 0s - loss: 3.7022e-05\n",
      "Epoch 20/50\n",
      "32/32 - 0s - loss: 4.0824e-05\n",
      "Epoch 21/50\n",
      "32/32 - 0s - loss: 3.2192e-05\n",
      "Epoch 22/50\n",
      "32/32 - 0s - loss: 3.4584e-05\n",
      "Epoch 23/50\n",
      "32/32 - 0s - loss: 2.7905e-05\n",
      "Epoch 24/50\n",
      "32/32 - 0s - loss: 2.6511e-05\n",
      "Epoch 25/50\n",
      "32/32 - 0s - loss: 2.7711e-05\n",
      "Epoch 26/50\n",
      "32/32 - 0s - loss: 3.1350e-05\n",
      "Epoch 27/50\n",
      "32/32 - 0s - loss: 2.8845e-05\n",
      "Epoch 28/50\n",
      "32/32 - 0s - loss: 2.2969e-05\n",
      "Epoch 29/50\n",
      "32/32 - 0s - loss: 2.2931e-05\n",
      "Epoch 30/50\n",
      "32/32 - 0s - loss: 2.3726e-05\n",
      "Epoch 31/50\n",
      "32/32 - 0s - loss: 3.8536e-05\n",
      "Epoch 32/50\n",
      "32/32 - 0s - loss: 2.6826e-05\n",
      "Epoch 33/50\n",
      "32/32 - 0s - loss: 2.9306e-05\n",
      "Epoch 34/50\n",
      "32/32 - 0s - loss: 2.5395e-05\n",
      "Epoch 35/50\n",
      "32/32 - 0s - loss: 2.1684e-05\n",
      "Epoch 36/50\n",
      "32/32 - 0s - loss: 2.6130e-05\n",
      "Epoch 37/50\n",
      "32/32 - 0s - loss: 2.3819e-05\n",
      "Epoch 38/50\n",
      "32/32 - 0s - loss: 3.6448e-05\n",
      "Epoch 39/50\n",
      "32/32 - 0s - loss: 2.6038e-05\n",
      "Epoch 40/50\n",
      "32/32 - 0s - loss: 2.9552e-05\n",
      "Epoch 41/50\n",
      "32/32 - 0s - loss: 2.3883e-05\n",
      "Epoch 42/50\n",
      "32/32 - 0s - loss: 2.2369e-05\n",
      "Epoch 43/50\n",
      "32/32 - 0s - loss: 1.7037e-05\n",
      "Epoch 44/50\n",
      "32/32 - 0s - loss: 2.5448e-05\n",
      "Epoch 45/50\n",
      "32/32 - 0s - loss: 2.7888e-05\n",
      "Epoch 46/50\n",
      "32/32 - 0s - loss: 6.1543e-05\n",
      "Epoch 47/50\n",
      "32/32 - 0s - loss: 9.6308e-05\n",
      "Epoch 48/50\n",
      "32/32 - 0s - loss: 6.4193e-05\n",
      "Epoch 49/50\n",
      "32/32 - 0s - loss: 5.0425e-05\n",
      "Epoch 50/50\n",
      "32/32 - 0s - loss: 3.8373e-05\n"
     ]
    },
    {
     "data": {
      "text/plain": [
       "<keras.callbacks.History at 0x1f6a41ff310>"
      ]
     },
     "execution_count": 5,
     "metadata": {},
     "output_type": "execute_result"
    }
   ],
   "source": [
    "\n",
    "# Train the model\n",
    "model.fit(\n",
    "    X,\n",
    "    Y,\n",
    "    epochs=50,\n",
    "    shuffle=True,\n",
    "    verbose=2,\n",
    "    callbacks=[logger]\n",
    ")\n"
   ]
  },
  {
   "cell_type": "code",
   "execution_count": 6,
   "metadata": {},
   "outputs": [
    {
     "name": "stdout",
     "output_type": "stream",
     "text": [
      "The mean squared error (MSE) for the test data set is: 0.00014193484093993902\n"
     ]
    }
   ],
   "source": [
    "\n",
    "# Load the separate test data set\n",
    "test_data_df = pd.read_csv(\"sales_data_testing_scaled.csv\")\n",
    "\n",
    "X_test = test_data_df.drop('total_earnings', axis=1).values\n",
    "Y_test = test_data_df[['total_earnings']].values\n",
    "\n",
    "test_error_rate = model.evaluate(X_test, Y_test, verbose=0)\n",
    "print(\"The mean squared error (MSE) for the test data set is: {}\".format(test_error_rate))\n",
    "\n"
   ]
  },
  {
   "cell_type": "markdown",
   "metadata": {},
   "source": [
    "### Exporting model"
   ]
  },
  {
   "cell_type": "code",
   "execution_count": 10,
   "metadata": {},
   "outputs": [
    {
     "ename": "AttributeError",
     "evalue": "module 'tensorflow._api.v2.saved_model' has no attribute 'builder'",
     "output_type": "error",
     "traceback": [
      "\u001b[1;31m---------------------------------------------------------------------------\u001b[0m",
      "\u001b[1;31mAttributeError\u001b[0m                            Traceback (most recent call last)",
      "\u001b[1;32m<ipython-input-10-c322e378d9c7>\u001b[0m in \u001b[0;36m<module>\u001b[1;34m\u001b[0m\n\u001b[1;32m----> 1\u001b[1;33m \u001b[0mmodel_builder\u001b[0m \u001b[1;33m=\u001b[0m \u001b[0mtf\u001b[0m\u001b[1;33m.\u001b[0m\u001b[0msaved_model\u001b[0m\u001b[1;33m.\u001b[0m\u001b[0mbuilder\u001b[0m\u001b[1;33m.\u001b[0m\u001b[0mSavedModelBuilder\u001b[0m\u001b[1;33m(\u001b[0m\u001b[1;34m\"exported_model\"\u001b[0m\u001b[1;33m)\u001b[0m\u001b[1;33m\u001b[0m\u001b[1;33m\u001b[0m\u001b[0m\n\u001b[0m\u001b[0;32m      2\u001b[0m \u001b[1;33m\u001b[0m\u001b[0m\n\u001b[0;32m      3\u001b[0m \u001b[0minputs\u001b[0m \u001b[1;33m=\u001b[0m \u001b[1;33m{\u001b[0m\u001b[1;34m'input'\u001b[0m\u001b[1;33m:\u001b[0m \u001b[0mtf\u001b[0m\u001b[1;33m.\u001b[0m\u001b[0msaved_model\u001b[0m\u001b[1;33m.\u001b[0m\u001b[0mutils\u001b[0m\u001b[1;33m.\u001b[0m\u001b[0mbuild_tensor_info\u001b[0m\u001b[1;33m(\u001b[0m\u001b[0mmodel\u001b[0m\u001b[1;33m.\u001b[0m\u001b[0minput\u001b[0m\u001b[1;33m)\u001b[0m \u001b[1;33m}\u001b[0m\u001b[1;33m\u001b[0m\u001b[1;33m\u001b[0m\u001b[0m\n\u001b[0;32m      4\u001b[0m \u001b[0moutputs\u001b[0m \u001b[1;33m=\u001b[0m \u001b[1;33m{\u001b[0m \u001b[1;34m'earnings'\u001b[0m\u001b[1;33m:\u001b[0m \u001b[0mtf\u001b[0m\u001b[1;33m.\u001b[0m\u001b[0msaved_model\u001b[0m\u001b[1;33m.\u001b[0m\u001b[0mutils\u001b[0m\u001b[1;33m.\u001b[0m\u001b[0mbuild_tensor_info\u001b[0m\u001b[1;33m(\u001b[0m\u001b[0mmodel\u001b[0m\u001b[1;33m.\u001b[0m\u001b[0moutput\u001b[0m\u001b[1;33m)\u001b[0m \u001b[1;33m}\u001b[0m\u001b[1;33m\u001b[0m\u001b[1;33m\u001b[0m\u001b[0m\n\u001b[0;32m      5\u001b[0m \u001b[1;33m\u001b[0m\u001b[0m\n",
      "\u001b[1;31mAttributeError\u001b[0m: module 'tensorflow._api.v2.saved_model' has no attribute 'builder'"
     ]
    }
   ],
   "source": [
    "\n",
    "model_builder = tf.saved_model.builder.SavedModelBuilder(\"exported_model\")\n",
    "\n",
    "inputs = {'input': tf.saved_model.utils.build_tensor_info(model.input) }\n",
    "outputs = { 'earnings': tf.saved_model.utils.build_tensor_info(model.output) }\n",
    "\n",
    "signature_def = tf.saved_model.signature_def_utils.build_signature_def(\n",
    "    inputs=inputs,\n",
    "    outputs=outputs,\n",
    "    method_name=tf.saved_model.signature_constants.PREDICT_METHOD_NAME\n",
    ")\n",
    "\n",
    "model_builder.add_meta_graph_and_variables(\n",
    "    K.get_session(),\n",
    "    tags=[tf.saved_model.tag_constants.SERVING],\n",
    "    signature_def_map={\n",
    "        tf.saved_model.signature_constants.DEFAULT_SERVING_SIGNATURE_DEF_KEY: signature_def\n",
    "    }\n",
    ")\n",
    "\n",
    "model_builder.save()"
   ]
  },
  {
   "cell_type": "code",
   "execution_count": null,
   "metadata": {},
   "outputs": [],
   "source": []
  },
  {
   "cell_type": "code",
   "execution_count": null,
   "metadata": {},
   "outputs": [],
   "source": []
  },
  {
   "cell_type": "code",
   "execution_count": null,
   "metadata": {},
   "outputs": [],
   "source": []
  }
 ],
 "metadata": {
  "kernelspec": {
   "display_name": "Python 3",
   "language": "python",
   "name": "python3"
  },
  "language_info": {
   "codemirror_mode": {
    "name": "ipython",
    "version": 3
   },
   "file_extension": ".py",
   "mimetype": "text/x-python",
   "name": "python",
   "nbconvert_exporter": "python",
   "pygments_lexer": "ipython3",
   "version": "3.8.5"
  }
 },
 "nbformat": 4,
 "nbformat_minor": 4
}
