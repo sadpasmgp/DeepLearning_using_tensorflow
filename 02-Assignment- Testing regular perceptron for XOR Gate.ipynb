{
 "cells": [
  {
   "cell_type": "code",
   "execution_count": 1,
   "metadata": {},
   "outputs": [],
   "source": [
    "import numpy as np"
   ]
  },
  {
   "cell_type": "code",
   "execution_count": 9,
   "metadata": {},
   "outputs": [],
   "source": [
    "features = np.array([\n",
    "    [0,0],\n",
    "    [0,1],\n",
    "    [1,0],\n",
    "    [1,1]\n",
    "])\n",
    "\n",
    "#labels are results of OR gate\n",
    "labels = np.array([0,1,1,0])\n",
    "\n",
    "#initial weights can be anything\n",
    "w = [0.9, 0.9]\n",
    "\n",
    "threshold = 0.5\n",
    "\n",
    "learning_rate = 1\n",
    "epoch = 20 #learning time"
   ]
  },
  {
   "cell_type": "code",
   "execution_count": 10,
   "metadata": {
    "scrolled": false
   },
   "outputs": [
    {
     "name": "stdout",
     "output_type": "stream",
     "text": [
      "epoch:  0\n",
      "prediction:  0 whereas actual was  0 (error: 0 )\n",
      "prediction:  1 whereas actual was  1 (error: 0 )\n",
      "prediction:  1 whereas actual was  1 (error: 0 )\n",
      "prediction:  1 whereas actual was  0 (error: -1 )\n",
      "------------------------------\n",
      "epoch:  1\n",
      "prediction:  0 whereas actual was  0 (error: 0 )\n",
      "prediction:  0 whereas actual was  1 (error: 1 )\n",
      "prediction:  1 whereas actual was  1 (error: 0 )\n",
      "prediction:  1 whereas actual was  0 (error: -1 )\n",
      "------------------------------\n",
      "epoch:  2\n",
      "prediction:  0 whereas actual was  0 (error: 0 )\n",
      "prediction:  0 whereas actual was  1 (error: 1 )\n",
      "prediction:  1 whereas actual was  1 (error: 0 )\n",
      "prediction:  1 whereas actual was  0 (error: -1 )\n",
      "------------------------------\n",
      "epoch:  3\n",
      "prediction:  0 whereas actual was  0 (error: 0 )\n",
      "prediction:  0 whereas actual was  1 (error: 1 )\n",
      "prediction:  1 whereas actual was  1 (error: 0 )\n",
      "prediction:  1 whereas actual was  0 (error: -1 )\n",
      "------------------------------\n",
      "epoch:  4\n",
      "prediction:  0 whereas actual was  0 (error: 0 )\n",
      "prediction:  0 whereas actual was  1 (error: 1 )\n",
      "prediction:  1 whereas actual was  1 (error: 0 )\n",
      "prediction:  1 whereas actual was  0 (error: -1 )\n",
      "------------------------------\n",
      "epoch:  5\n",
      "prediction:  0 whereas actual was  0 (error: 0 )\n",
      "prediction:  0 whereas actual was  1 (error: 1 )\n",
      "prediction:  1 whereas actual was  1 (error: 0 )\n",
      "prediction:  1 whereas actual was  0 (error: -1 )\n",
      "------------------------------\n",
      "epoch:  6\n",
      "prediction:  0 whereas actual was  0 (error: 0 )\n",
      "prediction:  0 whereas actual was  1 (error: 1 )\n",
      "prediction:  1 whereas actual was  1 (error: 0 )\n",
      "prediction:  1 whereas actual was  0 (error: -1 )\n",
      "------------------------------\n",
      "epoch:  7\n",
      "prediction:  0 whereas actual was  0 (error: 0 )\n",
      "prediction:  0 whereas actual was  1 (error: 1 )\n",
      "prediction:  1 whereas actual was  1 (error: 0 )\n",
      "prediction:  1 whereas actual was  0 (error: -1 )\n",
      "------------------------------\n",
      "epoch:  8\n",
      "prediction:  0 whereas actual was  0 (error: 0 )\n",
      "prediction:  0 whereas actual was  1 (error: 1 )\n",
      "prediction:  1 whereas actual was  1 (error: 0 )\n",
      "prediction:  1 whereas actual was  0 (error: -1 )\n",
      "------------------------------\n",
      "epoch:  9\n",
      "prediction:  0 whereas actual was  0 (error: 0 )\n",
      "prediction:  0 whereas actual was  1 (error: 1 )\n",
      "prediction:  1 whereas actual was  1 (error: 0 )\n",
      "prediction:  1 whereas actual was  0 (error: -1 )\n",
      "------------------------------\n",
      "epoch:  10\n",
      "prediction:  0 whereas actual was  0 (error: 0 )\n",
      "prediction:  0 whereas actual was  1 (error: 1 )\n",
      "prediction:  1 whereas actual was  1 (error: 0 )\n",
      "prediction:  1 whereas actual was  0 (error: -1 )\n",
      "------------------------------\n",
      "epoch:  11\n",
      "prediction:  0 whereas actual was  0 (error: 0 )\n",
      "prediction:  0 whereas actual was  1 (error: 1 )\n",
      "prediction:  1 whereas actual was  1 (error: 0 )\n",
      "prediction:  1 whereas actual was  0 (error: -1 )\n",
      "------------------------------\n",
      "epoch:  12\n",
      "prediction:  0 whereas actual was  0 (error: 0 )\n",
      "prediction:  0 whereas actual was  1 (error: 1 )\n",
      "prediction:  1 whereas actual was  1 (error: 0 )\n",
      "prediction:  1 whereas actual was  0 (error: -1 )\n",
      "------------------------------\n",
      "epoch:  13\n",
      "prediction:  0 whereas actual was  0 (error: 0 )\n",
      "prediction:  0 whereas actual was  1 (error: 1 )\n",
      "prediction:  1 whereas actual was  1 (error: 0 )\n",
      "prediction:  1 whereas actual was  0 (error: -1 )\n",
      "------------------------------\n",
      "epoch:  14\n",
      "prediction:  0 whereas actual was  0 (error: 0 )\n",
      "prediction:  0 whereas actual was  1 (error: 1 )\n",
      "prediction:  1 whereas actual was  1 (error: 0 )\n",
      "prediction:  1 whereas actual was  0 (error: -1 )\n",
      "------------------------------\n",
      "epoch:  15\n",
      "prediction:  0 whereas actual was  0 (error: 0 )\n",
      "prediction:  0 whereas actual was  1 (error: 1 )\n",
      "prediction:  1 whereas actual was  1 (error: 0 )\n",
      "prediction:  1 whereas actual was  0 (error: -1 )\n",
      "------------------------------\n",
      "epoch:  16\n",
      "prediction:  0 whereas actual was  0 (error: 0 )\n",
      "prediction:  0 whereas actual was  1 (error: 1 )\n",
      "prediction:  1 whereas actual was  1 (error: 0 )\n",
      "prediction:  1 whereas actual was  0 (error: -1 )\n",
      "------------------------------\n",
      "epoch:  17\n",
      "prediction:  0 whereas actual was  0 (error: 0 )\n",
      "prediction:  0 whereas actual was  1 (error: 1 )\n",
      "prediction:  1 whereas actual was  1 (error: 0 )\n",
      "prediction:  1 whereas actual was  0 (error: -1 )\n",
      "------------------------------\n",
      "epoch:  18\n",
      "prediction:  0 whereas actual was  0 (error: 0 )\n",
      "prediction:  0 whereas actual was  1 (error: 1 )\n",
      "prediction:  1 whereas actual was  1 (error: 0 )\n",
      "prediction:  1 whereas actual was  0 (error: -1 )\n",
      "------------------------------\n",
      "epoch:  19\n",
      "prediction:  0 whereas actual was  0 (error: 0 )\n",
      "prediction:  0 whereas actual was  1 (error: 1 )\n",
      "prediction:  1 whereas actual was  1 (error: 0 )\n",
      "prediction:  1 whereas actual was  0 (error: -1 )\n",
      "------------------------------\n"
     ]
    }
   ],
   "source": [
    "for j in range(0, epoch):\n",
    "    print(\"epoch: \",j)\n",
    "    global_delta = 0\n",
    "    for i in range(0, features.shape[0]):\n",
    "\n",
    "        actual = labels[i]\n",
    "        instance = features[i]\n",
    "\n",
    "        x0 = instance[0]\n",
    "        x1 = instance[1]\n",
    "\n",
    "        sum_unit = x0 * w[0] + x1 * w[1]\n",
    "\n",
    "        if sum_unit > threshold:\n",
    "            fire = 1\n",
    "        else:\n",
    "            fire = 0\n",
    "\n",
    "        delta = actual - fire\n",
    "        global_delta = global_delta + abs(delta)\n",
    "\n",
    "        print(\"prediction: \", fire, \"whereas actual was \",actual, \"(error:\" , delta,\")\")\n",
    "\n",
    "        w[0] = w[0] + delta * learning_rate\n",
    "        w[1] = w[1] + delta * learning_rate\n",
    "        \n",
    "        \n",
    "    print(\"------------------------------\")\n",
    "    \n",
    "    if global_delta == 0:\n",
    "        break"
   ]
  },
  {
   "cell_type": "markdown",
   "metadata": {},
   "source": [
    "Tried with varying learning rates, tried with varying weights and changes number of epochs but it appears simple perceptron cannot solve XOR gate"
   ]
  },
  {
   "cell_type": "code",
   "execution_count": 11,
   "metadata": {},
   "outputs": [
    {
     "data": {
      "text/html": [
       "<img src=\"perceptron_1.png\" width=\"800\" height=\"800\"/>"
      ],
      "text/plain": [
       "<IPython.core.display.Image object>"
      ]
     },
     "execution_count": 11,
     "metadata": {},
     "output_type": "execute_result"
    }
   ],
   "source": [
    "from IPython.display import Image\n",
    "Image(url= \"perceptron_1.png\", width=800, height=800)"
   ]
  },
  {
   "cell_type": "markdown",
   "metadata": {},
   "source": [
    "As we can see, it calculates a weighted sum of its inputs and thresholds it with a step function. Geometrically, this means the perceptron can separate its input space with a hyperplane. That’s where the notion that a perceptron can only separate linearly separable problems came from. Since the XOR function is not linearly separable, it really is impossible for a single hyperplane to separate it."
   ]
  },
  {
   "cell_type": "code",
   "execution_count": 12,
   "metadata": {},
   "outputs": [
    {
     "data": {
      "text/html": [
       "<img src=\"XORgate.png\" width=\"800\" height=\"800\"/>"
      ],
      "text/plain": [
       "<IPython.core.display.Image object>"
      ]
     },
     "execution_count": 12,
     "metadata": {},
     "output_type": "execute_result"
    }
   ],
   "source": [
    "from IPython.display import Image\n",
    "Image(url= \"XORgate.png\", width=800, height=800)"
   ]
  },
  {
   "cell_type": "markdown",
   "metadata": {},
   "source": [
    "This is why a regular perceptron cannot solve XOR gate. Also, an activation function instead of weighted sum to be applied in combination with backpropagation to be able to solve it"
   ]
  },
  {
   "cell_type": "code",
   "execution_count": null,
   "metadata": {},
   "outputs": [],
   "source": []
  }
 ],
 "metadata": {
  "kernelspec": {
   "display_name": "Python 3",
   "language": "python",
   "name": "python3"
  },
  "language_info": {
   "codemirror_mode": {
    "name": "ipython",
    "version": 3
   },
   "file_extension": ".py",
   "mimetype": "text/x-python",
   "name": "python",
   "nbconvert_exporter": "python",
   "pygments_lexer": "ipython3",
   "version": "3.8.5"
  }
 },
 "nbformat": 4,
 "nbformat_minor": 4
}
