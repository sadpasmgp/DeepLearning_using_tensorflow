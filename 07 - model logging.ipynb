{
 "cells": [
  {
   "cell_type": "code",
   "execution_count": 8,
   "metadata": {},
   "outputs": [],
   "source": [
    "import pandas as pd\n",
    "import keras\n",
    "from keras.models import Sequential\n",
    "from keras.layers import *\n"
   ]
  },
  {
   "cell_type": "code",
   "execution_count": 9,
   "metadata": {},
   "outputs": [],
   "source": [
    "\n",
    "training_data_df = pd.read_csv(\"sales_data_training_scaled.csv\")\n",
    "\n",
    "X = training_data_df.drop('total_earnings', axis=1).values\n",
    "Y = training_data_df[['total_earnings']].values\n"
   ]
  },
  {
   "cell_type": "code",
   "execution_count": 10,
   "metadata": {},
   "outputs": [],
   "source": [
    "\n",
    "# Define the model\n",
    "model = Sequential()\n",
    "model.add(Dense(50, input_dim=9, activation='relu', name='layer_1'))\n",
    "model.add(Dense(100, activation='relu', name='layer_2'))\n",
    "model.add(Dense(50, activation='relu', name='layer_3'))\n",
    "model.add(Dense(1, activation='linear', name='output_layer'))\n",
    "model.compile(loss='mean_squared_error', optimizer='adam')\n"
   ]
  },
  {
   "cell_type": "code",
   "execution_count": 11,
   "metadata": {},
   "outputs": [],
   "source": [
    "\n",
    "# Create a TensorBoard logger\n",
    "logger = keras.callbacks.TensorBoard(\n",
    "    log_dir='logs',\n",
    "    write_graph=True,\n",
    "    histogram_freq=5\n",
    ")\n"
   ]
  },
  {
   "cell_type": "code",
   "execution_count": 12,
   "metadata": {},
   "outputs": [
    {
     "name": "stdout",
     "output_type": "stream",
     "text": [
      "Epoch 1/50\n",
      "32/32 - 0s - loss: 0.0223\n",
      "Epoch 2/50\n",
      "32/32 - 0s - loss: 0.0025\n",
      "Epoch 3/50\n",
      "32/32 - 0s - loss: 7.5701e-04\n",
      "Epoch 4/50\n",
      "32/32 - 0s - loss: 3.6009e-04\n",
      "Epoch 5/50\n",
      "32/32 - 0s - loss: 2.2320e-04\n",
      "Epoch 6/50\n",
      "32/32 - 0s - loss: 1.5098e-04\n",
      "Epoch 7/50\n",
      "32/32 - 0s - loss: 1.2216e-04\n",
      "Epoch 8/50\n",
      "32/32 - 0s - loss: 8.9168e-05\n",
      "Epoch 9/50\n",
      "32/32 - 0s - loss: 7.0566e-05\n",
      "Epoch 10/50\n",
      "32/32 - 0s - loss: 5.9326e-05\n",
      "Epoch 11/50\n",
      "32/32 - 0s - loss: 5.6424e-05\n",
      "Epoch 12/50\n",
      "32/32 - 0s - loss: 5.5347e-05\n",
      "Epoch 13/50\n",
      "32/32 - 0s - loss: 4.7614e-05\n",
      "Epoch 14/50\n",
      "32/32 - 0s - loss: 3.7116e-05\n",
      "Epoch 15/50\n",
      "32/32 - 0s - loss: 3.4136e-05\n",
      "Epoch 16/50\n",
      "32/32 - 0s - loss: 3.2947e-05\n",
      "Epoch 17/50\n",
      "32/32 - 0s - loss: 2.9181e-05\n",
      "Epoch 18/50\n",
      "32/32 - 0s - loss: 2.7444e-05\n",
      "Epoch 19/50\n",
      "32/32 - 0s - loss: 2.7562e-05\n",
      "Epoch 20/50\n",
      "32/32 - 0s - loss: 2.7040e-05\n",
      "Epoch 21/50\n",
      "32/32 - 0s - loss: 3.0379e-05\n",
      "Epoch 22/50\n",
      "32/32 - 0s - loss: 2.8730e-05\n",
      "Epoch 23/50\n",
      "32/32 - 0s - loss: 2.2677e-05\n",
      "Epoch 24/50\n",
      "32/32 - 0s - loss: 2.3295e-05\n",
      "Epoch 25/50\n",
      "32/32 - 0s - loss: 2.4024e-05\n",
      "Epoch 26/50\n",
      "32/32 - 0s - loss: 3.7718e-05\n",
      "Epoch 27/50\n",
      "32/32 - 0s - loss: 3.1946e-05\n",
      "Epoch 28/50\n",
      "32/32 - 0s - loss: 2.2173e-05\n",
      "Epoch 29/50\n",
      "32/32 - 0s - loss: 2.1169e-05\n",
      "Epoch 30/50\n",
      "32/32 - 0s - loss: 2.3699e-05\n",
      "Epoch 31/50\n",
      "32/32 - 0s - loss: 2.3578e-05\n",
      "Epoch 32/50\n",
      "32/32 - 0s - loss: 2.1735e-05\n",
      "Epoch 33/50\n",
      "32/32 - 0s - loss: 2.6562e-05\n",
      "Epoch 34/50\n",
      "32/32 - 0s - loss: 2.3515e-05\n",
      "Epoch 35/50\n",
      "32/32 - 0s - loss: 2.6546e-05\n",
      "Epoch 36/50\n",
      "32/32 - 0s - loss: 2.2558e-05\n",
      "Epoch 37/50\n",
      "32/32 - 0s - loss: 2.7956e-05\n",
      "Epoch 38/50\n",
      "32/32 - 0s - loss: 3.3158e-05\n",
      "Epoch 39/50\n",
      "32/32 - 0s - loss: 2.0516e-05\n",
      "Epoch 40/50\n",
      "32/32 - 0s - loss: 2.3771e-05\n",
      "Epoch 41/50\n",
      "32/32 - 0s - loss: 2.2110e-05\n",
      "Epoch 42/50\n",
      "32/32 - 0s - loss: 4.1990e-05\n",
      "Epoch 43/50\n",
      "32/32 - 0s - loss: 3.9403e-05\n",
      "Epoch 44/50\n",
      "32/32 - 0s - loss: 2.4228e-05\n",
      "Epoch 45/50\n",
      "32/32 - 0s - loss: 3.1942e-05\n",
      "Epoch 46/50\n",
      "32/32 - 0s - loss: 4.0038e-05\n",
      "Epoch 47/50\n",
      "32/32 - 0s - loss: 2.7313e-05\n",
      "Epoch 48/50\n",
      "32/32 - 0s - loss: 3.1480e-05\n",
      "Epoch 49/50\n",
      "32/32 - 0s - loss: 1.9918e-05\n",
      "Epoch 50/50\n",
      "32/32 - 0s - loss: 2.4068e-05\n"
     ]
    },
    {
     "data": {
      "text/plain": [
       "<keras.callbacks.History at 0x1fe56fe3a90>"
      ]
     },
     "execution_count": 12,
     "metadata": {},
     "output_type": "execute_result"
    }
   ],
   "source": [
    "\n",
    "# Train the model\n",
    "model.fit(\n",
    "    X,\n",
    "    Y,\n",
    "    epochs=50,\n",
    "    shuffle=True,\n",
    "    verbose=2,\n",
    "    callbacks=[logger]\n",
    ")\n"
   ]
  },
  {
   "cell_type": "code",
   "execution_count": 13,
   "metadata": {},
   "outputs": [
    {
     "name": "stdout",
     "output_type": "stream",
     "text": [
      "The mean squared error (MSE) for the test data set is: 6.847109034424648e-05\n"
     ]
    }
   ],
   "source": [
    "\n",
    "# Load the separate test data set\n",
    "test_data_df = pd.read_csv(\"sales_data_testing_scaled.csv\")\n",
    "\n",
    "X_test = test_data_df.drop('total_earnings', axis=1).values\n",
    "Y_test = test_data_df[['total_earnings']].values\n",
    "\n",
    "test_error_rate = model.evaluate(X_test, Y_test, verbose=0)\n",
    "print(\"The mean squared error (MSE) for the test data set is: {}\".format(test_error_rate))"
   ]
  },
  {
   "cell_type": "markdown",
   "metadata": {},
   "source": [
    "A new logs folder must be generated and open terminal window and type tensorboard --logdir=logs\n",
    "it ill display htt url. ope it on browser to visualize tensorboard"
   ]
  },
  {
   "cell_type": "code",
   "execution_count": null,
   "metadata": {},
   "outputs": [],
   "source": []
  }
 ],
 "metadata": {
  "kernelspec": {
   "display_name": "Python 3",
   "language": "python",
   "name": "python3"
  },
  "language_info": {
   "codemirror_mode": {
    "name": "ipython",
    "version": 3
   },
   "file_extension": ".py",
   "mimetype": "text/x-python",
   "name": "python",
   "nbconvert_exporter": "python",
   "pygments_lexer": "ipython3",
   "version": "3.8.5"
  }
 },
 "nbformat": 4,
 "nbformat_minor": 4
}
